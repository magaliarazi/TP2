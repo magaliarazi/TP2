{
 "cells": [
  {
   "cell_type": "code",
   "execution_count": 1,
   "metadata": {},
   "outputs": [],
   "source": [
    "from tensorflow.compat.v1 import ConfigProto\n",
    "from tensorflow.compat.v1 import InteractiveSession\n",
    "config = ConfigProto()\n",
    "config.gpu_options.allow_growth = True\n",
    "session = InteractiveSession(config=config)"
   ]
  },
  {
   "cell_type": "code",
   "execution_count": 2,
   "metadata": {},
   "outputs": [],
   "source": [
    "import pandas as pd\n",
    "import numpy as np\n",
    "import datetime\n",
    "from pandas_summary import DataFrameSummary"
   ]
  },
  {
   "cell_type": "code",
   "execution_count": 3,
   "metadata": {},
   "outputs": [],
   "source": [
    "from tensorflow.keras.utils import to_categorical"
   ]
  },
  {
   "cell_type": "code",
   "execution_count": 4,
   "metadata": {},
   "outputs": [],
   "source": [
    "df = pd.read_feather('train_normalized_data.fth')\n",
    "df_test = pd.read_feather('test_normalized_data.fth')"
   ]
  },
  {
   "cell_type": "code",
   "execution_count": 5,
   "metadata": {},
   "outputs": [],
   "source": [
    "cat_vars = ['Store', 'DayOfWeek', 'Year', 'Month', 'Day', 'StateHoliday', 'CompetitionMonthsOpen', 'Promo2Weeks', \n",
    "            'StoreType', 'Assortment', 'PromoInterval', 'CompetitionOpenSinceYear', 'Promo2SinceYear', 'State', \n",
    "            'Week', 'Events', 'Promo_fw', 'Promo_bw', 'StateHoliday_bool_fw', 'StateHoliday_bool_bw', 'SchoolHoliday_fw', 'SchoolHoliday_bw']\n",
    "\n",
    "cat_vars = ['Store', 'DayOfWeek']"
   ]
  },
  {
   "cell_type": "code",
   "execution_count": 6,
   "metadata": {},
   "outputs": [],
   "source": [
    "contin_vars = ['CompetitionDistance', \n",
    "   'Max_TemperatureC', 'Mean_TemperatureC', 'Min_TemperatureC', 'Precipitationmm',\n",
    "   'Max_Humidity', 'Mean_Humidity', 'Min_Humidity', 'Max_Wind_SpeedKm_h', \n",
    "   'Mean_Wind_SpeedKm_h', 'CloudCover', 'trend', 'trend_DE',\n",
    "   'AfterStateHoliday_bool', 'BeforeStateHoliday_bool', 'Promo', 'SchoolHoliday', 'StateHoliday_bool']\n",
    "contin_vars = ['BeforeStateHoliday_bool', 'Max_TemperatureC']"
   ]
  },
  {
   "cell_type": "code",
   "execution_count": 7,
   "metadata": {},
   "outputs": [],
   "source": [
    "uniques = DataFrameSummary(df[cat_vars]).summary().loc[['uniques']]"
   ]
  },
  {
   "cell_type": "code",
   "execution_count": 8,
   "metadata": {},
   "outputs": [
    {
     "data": {
      "text/html": [
       "<div>\n",
       "<style scoped>\n",
       "    .dataframe tbody tr th:only-of-type {\n",
       "        vertical-align: middle;\n",
       "    }\n",
       "\n",
       "    .dataframe tbody tr th {\n",
       "        vertical-align: top;\n",
       "    }\n",
       "\n",
       "    .dataframe thead th {\n",
       "        text-align: right;\n",
       "    }\n",
       "</style>\n",
       "<table border=\"1\" class=\"dataframe\">\n",
       "  <thead>\n",
       "    <tr style=\"text-align: right;\">\n",
       "      <th></th>\n",
       "      <th>uniques</th>\n",
       "    </tr>\n",
       "  </thead>\n",
       "  <tbody>\n",
       "    <tr>\n",
       "      <th>Store</th>\n",
       "      <td>1115</td>\n",
       "    </tr>\n",
       "    <tr>\n",
       "      <th>DayOfWeek</th>\n",
       "      <td>7</td>\n",
       "    </tr>\n",
       "  </tbody>\n",
       "</table>\n",
       "</div>"
      ],
      "text/plain": [
       "          uniques\n",
       "Store        1115\n",
       "DayOfWeek       7"
      ]
     },
     "execution_count": 8,
     "metadata": {},
     "output_type": "execute_result"
    }
   ],
   "source": [
    "uniques.T"
   ]
  },
  {
   "cell_type": "markdown",
   "metadata": {},
   "source": [
    "# Asignación de dimensión de embeddings"
   ]
  },
  {
   "cell_type": "code",
   "execution_count": 9,
   "metadata": {},
   "outputs": [],
   "source": [
    "cat_var_dict = {'Store': 50, 'DayOfWeek': 2, 'Year': 2, 'Month': 2,\n",
    "'Day': 10, 'StateHoliday': 2, 'CompetitionMonthsOpen': 2,\n",
    "'Promo2Weeks': 1, 'StoreType': 2, 'Assortment': 3, 'PromoInterval': 3,\n",
    "'CompetitionOpenSinceYear': 4, 'Promo2SinceYear': 4, 'State': 6,\n",
    "'Week': 25, 'Events': 4, 'Promo_fw': 1,\n",
    "'Promo_bw': 1, 'StateHoliday_bool_fw': 1,\n",
    "'StateHoliday_bool_bw': 1, 'SchoolHoliday_fw': 1,\n",
    "'SchoolHoliday_bw': 1}"
   ]
  },
  {
   "cell_type": "code",
   "execution_count": 10,
   "metadata": {},
   "outputs": [
    {
     "name": "stdout",
     "output_type": "stream",
     "text": [
      "Store 50 1115 [   0    1    2 ... 1112 1113 1114]\n",
      "\n",
      "DayOfWeek 2 7 [0 1 2 3 4 5 6]\n",
      "\n"
     ]
    }
   ],
   "source": [
    "for v in cat_vars:\n",
    "    uniques_ = df[v].unique()\n",
    "    uniques_.sort()\n",
    "    print(v, cat_var_dict[v], len(uniques_), uniques_)\n",
    "    print()"
   ]
  },
  {
   "cell_type": "markdown",
   "metadata": {},
   "source": [
    "# Definición de modelo"
   ]
  },
  {
   "cell_type": "code",
   "execution_count": 11,
   "metadata": {},
   "outputs": [],
   "source": [
    "add_customers = True\n",
    "log_output = False\n",
    "output_activation = 'linear'"
   ]
  },
  {
   "cell_type": "code",
   "execution_count": 12,
   "metadata": {},
   "outputs": [],
   "source": [
    "from tensorflow.keras.models import Model\n",
    "from tensorflow.keras.callbacks import ModelCheckpoint\n",
    "from tensorflow.keras.optimizers import Adam\n",
    "from tensorflow.keras.layers import Embedding, Input, Flatten, Concatenate, Dense, BatchNormalization, Activation, LeakyReLU, Dropout\n",
    "from tensorflow.keras.regularizers import l2"
   ]
  },
  {
   "cell_type": "code",
   "execution_count": 13,
   "metadata": {},
   "outputs": [],
   "source": [
    "def get_cat_vars_model(cat_vars, uniques, cat_var_dict):\n",
    "    cat_vars_embed_outs = []\n",
    "    cat_var_inputs = []\n",
    "    for cat_var in cat_vars:\n",
    "        cat_var_in = Input(shape=(1,), name=f\"{cat_var}_input\")\n",
    "        cat_var_inputs.append(cat_var_in)\n",
    "        embed_out = Embedding(uniques[cat_var][0], cat_var_dict[cat_var], name=f'{cat_var}_Embed')(cat_var_in)\n",
    "        flatten_out = Flatten(name=f\"{cat_var}_flat\")(embed_out)\n",
    "        cat_vars_embed_outs.append(flatten_out)\n",
    "    return cat_var_inputs, cat_vars_embed_outs\n",
    "\n",
    "def get_cont_vars_input(contin_vars, dense_layer=False):\n",
    "    cont_vars_inputs = []\n",
    "    cont_vars_outputs = []\n",
    "    for cont_var in contin_vars:\n",
    "        cont_var_in = Input(shape=(1,), name=f\"{cont_var}_input\")\n",
    "        cont_vars_inputs.append(cont_var_in)\n",
    "        if dense_layer:\n",
    "            cont_var_out = Dense(1, name=f\"{cont_var}_input\", activation = 'linear')(cont_var_in)\n",
    "            cont_vars_outputs.append(cont_var_out)\n",
    "        else:\n",
    "            cont_vars_outputs.append(cont_var_in)\n",
    "    return cont_vars_inputs, cont_vars_outputs"
   ]
  },
  {
   "cell_type": "code",
   "execution_count": 14,
   "metadata": {},
   "outputs": [
    {
     "name": "stderr",
     "output_type": "stream",
     "text": [
      "C:\\Users\\Usuario\\AppData\\Local\\Temp\\ipykernel_24240\\543933484.py:7: FutureWarning: Series.__getitem__ treating keys as positions is deprecated. In a future version, integer keys will always be treated as labels (consistent with DataFrame behavior). To access a value by position, use `ser.iloc[pos]`\n",
      "  embed_out = Embedding(uniques[cat_var][0], cat_var_dict[cat_var], name=f'{cat_var}_Embed')(cat_var_in)\n"
     ]
    }
   ],
   "source": [
    "cat_var_inputs, cat_vars_embed_outs = get_cat_vars_model(cat_vars, uniques, cat_var_dict)\n",
    "cont_vars_inputs,  cont_vars_outs= get_cont_vars_input(contin_vars)"
   ]
  },
  {
   "cell_type": "code",
   "execution_count": 15,
   "metadata": {},
   "outputs": [],
   "source": [
    "# Descomentar para ver resultados\n",
    "# cat_vars_embed_outs\n",
    "# cat_var_inputs\n",
    "# cont_vars_inputs\n",
    "# cont_vars_outs"
   ]
  },
  {
   "cell_type": "code",
   "execution_count": 16,
   "metadata": {},
   "outputs": [
    {
     "name": "stderr",
     "output_type": "stream",
     "text": [
      "c:\\Users\\Usuario\\OneDrive\\Escritorio\\holaaa-main (1) - copia\\my_env\\Lib\\site-packages\\keras\\src\\layers\\activations\\leaky_relu.py:41: UserWarning: Argument `alpha` is deprecated. Use `negative_slope` instead.\n",
      "  warnings.warn(\n"
     ]
    }
   ],
   "source": [
    "from tensorflow.keras.optimizers import Adam, RMSprop\n",
    "from tensorflow.keras.callbacks import ReduceLROnPlateau\n",
    "from tensorflow.keras.layers import LeakyReLU\n",
    "\n",
    "\n",
    "merged = Concatenate(name='All_Concatenate')(cat_vars_embed_outs + cont_vars_inputs)\n",
    "\n",
    "\n",
    "#optamos por 4 capas densas, arrancamos con 1024 nueronas y fuimos bajando la cantidad hasta la última capa. \n",
    "# Los resultados con mas neuronas nos daban peores resultados\n",
    "#para cada capa hicimos batchnormalization y dropout\n",
    "#empezamos aplicando relu, pero el leakyrelu nos dió mejor resultado.\n",
    "#Hemos probado con capas de 2000 neuronas por ejemplo y los resultados fueron siempre peores.\n",
    "\n",
    "\n",
    "x = Dense(units=1024, name='dense_0_layer')(merged)\n",
    "x = BatchNormalization(name='batch_norm_0')(x)\n",
    "x = LeakyReLU(alpha=0.2)(x) \n",
    "x = Dropout(0.3, name='dropout_0')(x)\n",
    "\n",
    "x = Dense(units=512, name='dense_1_layer')(x)\n",
    "x = BatchNormalization(name='batch_norm_1')(x)\n",
    "x = LeakyReLU(alpha=0.2)(x)  \n",
    "x = Dropout(0.3, name='dropout_1')(x)\n",
    "\n",
    "x = Dense(units=256, name='dense_2_layer')(x)\n",
    "x = BatchNormalization(name='batch_norm_2')(x)\n",
    "x = LeakyReLU(alpha=0.2)(x)  \n",
    "x = Dropout(0.3, name='dropout_2')(x)\n",
    "\n",
    "x = Dense(units=128, name='dense_3_layer')(x)\n",
    "x = BatchNormalization(name='batch_norm_3')(x)\n",
    "x = LeakyReLU(alpha=0.2)(x)  \n",
    "x = Dropout(0.3, name='dropout_3')(x)\n",
    "\n",
    "# Salidas\n",
    "output_1 = Dense(1, name='Sales', activation=output_activation)(x)\n",
    "output_2 = Dense(1, name='Customers', activation=output_activation)(x)\n",
    "\n"
   ]
  },
  {
   "cell_type": "code",
   "execution_count": 17,
   "metadata": {},
   "outputs": [],
   "source": [
    "if add_customers:\n",
    "    model = Model(cat_var_inputs + cont_vars_inputs, [output_1, output_2])\n",
    "else: \n",
    "    model = Model(cat_var_inputs + cont_vars_inputs, [output_1])"
   ]
  },
  {
   "cell_type": "code",
   "execution_count": 18,
   "metadata": {},
   "outputs": [],
   "source": [
    "# Descomentar para ver\n",
    "#model.summary()"
   ]
  },
  {
   "cell_type": "code",
   "execution_count": 19,
   "metadata": {},
   "outputs": [],
   "source": [
    "model.save_weights('initial.weights.h5')"
   ]
  },
  {
   "cell_type": "code",
   "execution_count": 20,
   "metadata": {},
   "outputs": [
    {
     "name": "stdout",
     "output_type": "stream",
     "text": [
      "Cantidad en val: 30188, porcentaje: 0.9642465458145908\n"
     ]
    }
   ],
   "source": [
    "df_train = df[df.Date < datetime.datetime(2015, 7, 1)]  \n",
    "df_val = df[df.Date >= datetime.datetime(2015, 7, 1)]\n",
    "print(f'Cantidad en val: {len(df_val)}, porcentaje: {len(df_train)/(len(df_train) + len(df_val))}')"
   ]
  },
  {
   "cell_type": "code",
   "execution_count": 21,
   "metadata": {},
   "outputs": [],
   "source": [
    "from matplotlib import pyplot as plt\n",
    "# plt.figure(figsize=(20,5))\n",
    "# plt.plot((df_train[df_train['Store']==1]['Sales'].values - df_train[df_train['Store']==1]['Sales'].mean())/df_train[df_train['Store']==1]['Sales'].std())\n",
    "# plt.show()\n",
    "# plt.figure(figsize=(20,5))\n",
    "# plt.plot(np.log(df_train[df_train['Store']==1]['Sales'].values)/np.max(np.log(df_train[df_train['Store']==1]['Sales'].values)))\n",
    "# plt.show()"
   ]
  },
  {
   "cell_type": "code",
   "execution_count": 22,
   "metadata": {},
   "outputs": [],
   "source": [
    "stores_mean = {}\n",
    "for store, g_df in df_train.groupby('Store'):\n",
    "    stores_mean[store] = g_df[g_df['Sales'] > 0]['Sales'].mean()"
   ]
  },
  {
   "cell_type": "code",
   "execution_count": 23,
   "metadata": {},
   "outputs": [
    {
     "name": "stderr",
     "output_type": "stream",
     "text": [
      "C:\\Users\\Usuario\\AppData\\Local\\Temp\\ipykernel_24240\\3553976367.py:1: SettingWithCopyWarning: \n",
      "A value is trying to be set on a copy of a slice from a DataFrame.\n",
      "Try using .loc[row_indexer,col_indexer] = value instead\n",
      "\n",
      "See the caveats in the documentation: https://pandas.pydata.org/pandas-docs/stable/user_guide/indexing.html#returning-a-view-versus-a-copy\n",
      "  df_train.loc[:, 'mean_by_store'] = df_train['Store'].apply(stores_mean.get)\n",
      "C:\\Users\\Usuario\\AppData\\Local\\Temp\\ipykernel_24240\\3553976367.py:2: SettingWithCopyWarning: \n",
      "A value is trying to be set on a copy of a slice from a DataFrame.\n",
      "Try using .loc[row_indexer,col_indexer] = value instead\n",
      "\n",
      "See the caveats in the documentation: https://pandas.pydata.org/pandas-docs/stable/user_guide/indexing.html#returning-a-view-versus-a-copy\n",
      "  df_val.loc[:, 'mean_by_store'] = df_val['Store'].apply(stores_mean.get)\n",
      "C:\\Users\\Usuario\\AppData\\Local\\Temp\\ipykernel_24240\\3553976367.py:4: SettingWithCopyWarning: \n",
      "A value is trying to be set on a copy of a slice from a DataFrame.\n",
      "Try using .loc[row_indexer,col_indexer] = value instead\n",
      "\n",
      "See the caveats in the documentation: https://pandas.pydata.org/pandas-docs/stable/user_guide/indexing.html#returning-a-view-versus-a-copy\n",
      "  df_train.loc[:, 'Sales_store'] = df_train['Sales'] - df_train['mean_by_store']\n",
      "C:\\Users\\Usuario\\AppData\\Local\\Temp\\ipykernel_24240\\3553976367.py:5: SettingWithCopyWarning: \n",
      "A value is trying to be set on a copy of a slice from a DataFrame.\n",
      "Try using .loc[row_indexer,col_indexer] = value instead\n",
      "\n",
      "See the caveats in the documentation: https://pandas.pydata.org/pandas-docs/stable/user_guide/indexing.html#returning-a-view-versus-a-copy\n",
      "  df_val.loc[:, 'Sales_store'] = df_val['Sales'] - df_val['mean_by_store']\n"
     ]
    }
   ],
   "source": [
    "df_train.loc[:, 'mean_by_store'] = df_train['Store'].apply(stores_mean.get)\n",
    "df_val.loc[:, 'mean_by_store'] = df_val['Store'].apply(stores_mean.get)\n",
    "\n",
    "df_train.loc[:, 'Sales_store'] = df_train['Sales'] - df_train['mean_by_store']\n",
    "df_val.loc[:, 'Sales_store'] = df_val['Sales'] - df_val['mean_by_store']"
   ]
  },
  {
   "cell_type": "code",
   "execution_count": 24,
   "metadata": {},
   "outputs": [],
   "source": [
    "from tensorflow.keras import backend as K\n",
    "from tensorflow.keras.callbacks import EarlyStopping as EarlyStopping"
   ]
  },
  {
   "cell_type": "code",
   "execution_count": 25,
   "metadata": {},
   "outputs": [],
   "source": [
    "def rmspe(y_true, y_pred):\n",
    "    return K.sqrt(K.mean(K.square((y_true - y_pred)/y_true)))"
   ]
  },
  {
   "cell_type": "code",
   "execution_count": 26,
   "metadata": {},
   "outputs": [],
   "source": [
    "def get_metric(df, sales_):\n",
    "    return np.sqrt((((df['Sales'] - sales_)/df['Sales'])**2).mean())"
   ]
  },
  {
   "cell_type": "code",
   "execution_count": 27,
   "metadata": {},
   "outputs": [
    {
     "data": {
      "text/plain": [
       "np.float64(0.3071746085338871)"
      ]
     },
     "execution_count": 27,
     "metadata": {},
     "output_type": "execute_result"
    }
   ],
   "source": [
    "get_metric(df_val, df_val['mean_by_store'])"
   ]
  },
  {
   "cell_type": "code",
   "execution_count": 28,
   "metadata": {},
   "outputs": [],
   "source": [
    "all_vars = cat_vars + contin_vars\n",
    "X_train = np.hsplit(df_train[all_vars].values, len(all_vars))\n",
    "X_val = np.hsplit(df_val[all_vars].values, len(all_vars))\n",
    "X_test = np.hsplit(df_test[all_vars].values, len(all_vars))"
   ]
  },
  {
   "cell_type": "code",
   "execution_count": 29,
   "metadata": {},
   "outputs": [],
   "source": [
    "if add_customers:\n",
    "    y_out_columns = ['Sales', 'Customers']\n",
    "else:\n",
    "    y_out_columns = ['Sales_store']\n",
    "    \n",
    "if log_output:\n",
    "    # Escala logaritmica\n",
    "    max_log_y = np.max(np.log(df[y_out_columns])).values\n",
    "    y_train = np.log(df_train[y_out_columns].values)/max_log_y\n",
    "    y_val = np.log(df_val[y_out_columns].values)/max_log_y\n",
    "else:\n",
    "    # Normalización\n",
    "    y_mean = df_train[y_out_columns].mean().values\n",
    "    y_std = df_train[y_out_columns].std().values\n",
    "    y_train = (df_train[y_out_columns].values - y_mean)/y_std\n",
    "    y_val = (df_val[y_out_columns].values - y_mean)/y_std\n",
    "   # y_max = df_train[y_out_columns].max().values\n",
    "    #y_train = df_train[y_out_columns].values/y_max\n",
    "    #y_val = df_val[y_out_columns].values/y_max\n",
    "y_train = np.hsplit(y_train, y_train.shape[1])\n",
    "y_val = np.hsplit(y_val, y_val.shape[1])"
   ]
  },
  {
   "cell_type": "code",
   "execution_count": 30,
   "metadata": {},
   "outputs": [],
   "source": [
    "\n",
    "\n",
    "from tensorflow.keras.optimizers import RMSprop\n",
    "\n",
    "lr = 0.001  \n",
    "optimizer = RMSprop(learning_rate=lr, rho=0.9) #intentamos con un Adam pero los resultados con RMS nos dieron mejor.\n",
    "# el RMSprop nos sirve para cuando hay datos que son muy variados.\n",
    "model.compile(optimizer=optimizer, metrics=['mse', rmspe], loss='mse')\n"
   ]
  },
  {
   "cell_type": "code",
   "execution_count": 31,
   "metadata": {},
   "outputs": [],
   "source": [
    "if add_customers:\n",
    "    checkpoint = ModelCheckpoint('bestmodel.keras', monitor='val_Sales_mse', verbose=1, save_best_only=True)\n",
    "else:\n",
    "    checkpoint = ModelCheckpoint('bestmodel.keras', monitor='val_loss', verbose=1, save_best_only=True)"
   ]
  },
  {
   "cell_type": "code",
   "execution_count": 32,
   "metadata": {},
   "outputs": [],
   "source": [
    "\n",
    "\n",
    "#utilizamos dos callback. Ambos nos sirven para mejorar la eficiencia y el rendimiento del entrenamiento del modelo. Al implementarlos nos dieron mejores resultados.\n",
    "\n",
    "lr_scheduler= ReduceLROnPlateau(\n",
    "    monitor='val_loss',\n",
    "    factor=0.5,\n",
    "    patience=3,\n",
    "    verbose = 1,\n",
    "    min_1r= 1e-6\n",
    ")\n",
    "\n",
    "es=EarlyStopping(\n",
    "    monitor='val_Sales_rmspe',\n",
    "    patience=20,\n",
    "    verbose=1,\n",
    "    restore_best_weights = True,\n",
    "    mode = 'min'\n",
    ")\n"
   ]
  },
  {
   "cell_type": "code",
   "execution_count": 33,
   "metadata": {},
   "outputs": [
    {
     "name": "stdout",
     "output_type": "stream",
     "text": [
      "Epoch 1/20\n"
     ]
    },
    {
     "name": "stderr",
     "output_type": "stream",
     "text": [
      "c:\\Users\\Usuario\\OneDrive\\Escritorio\\holaaa-main (1) - copia\\my_env\\Lib\\site-packages\\keras\\src\\models\\functional.py:225: UserWarning: The structure of `inputs` doesn't match the expected structure: ['Store_input', 'DayOfWeek_input', 'BeforeStateHoliday_bool_input', 'Max_TemperatureC_input']. Received: the structure of inputs=('*', '*', '*', '*')\n",
      "  warnings.warn(\n"
     ]
    },
    {
     "name": "stdout",
     "output_type": "stream",
     "text": [
      "\n",
      "Epoch 1: val_Sales_mse improved from inf to 0.23666, saving model to bestmodel.keras\n",
      "3181/3181 - 59s - 18ms/step - Customers_loss: 0.2098 - Customers_rmspe: 16.0314 - Sales_loss: 0.3842 - Sales_mse: 0.3842 - loss: 0.5940 - val_Customers_loss: 0.0928 - val_Customers_rmspe: 14.5621 - val_Sales_loss: 0.2367 - val_Sales_mse: 0.2367 - val_loss: 0.3295 - learning_rate: 1.0000e-03\n",
      "Epoch 2/20\n"
     ]
    },
    {
     "name": "stderr",
     "output_type": "stream",
     "text": [
      "c:\\Users\\Usuario\\OneDrive\\Escritorio\\holaaa-main (1) - copia\\my_env\\Lib\\site-packages\\keras\\src\\callbacks\\early_stopping.py:155: UserWarning: Early stopping conditioned on metric `val_Sales_rmspe` which is not available. Available metrics are: Customers_loss,Customers_rmspe,Sales_loss,Sales_mse,loss,val_Customers_loss,val_Customers_rmspe,val_Sales_loss,val_Sales_mse,val_loss,learning_rate\n",
      "  current = self.get_monitor_value(logs)\n"
     ]
    },
    {
     "name": "stdout",
     "output_type": "stream",
     "text": [
      "\n",
      "Epoch 2: val_Sales_mse improved from 0.23666 to 0.23316, saving model to bestmodel.keras\n",
      "3181/3181 - 49s - 15ms/step - Customers_loss: 0.1405 - Customers_rmspe: 13.9967 - Sales_loss: 0.3144 - Sales_mse: 0.3144 - loss: 0.4549 - val_Customers_loss: 0.0873 - val_Customers_rmspe: 13.0549 - val_Sales_loss: 0.2332 - val_Sales_mse: 0.2332 - val_loss: 0.3205 - learning_rate: 1.0000e-03\n",
      "Epoch 3/20\n",
      "\n",
      "Epoch 3: val_Sales_mse did not improve from 0.23316\n",
      "3181/3181 - 48s - 15ms/step - Customers_loss: 0.1325 - Customers_rmspe: 13.5259 - Sales_loss: 0.3067 - Sales_mse: 0.3066 - loss: 0.4391 - val_Customers_loss: 0.1167 - val_Customers_rmspe: 14.9321 - val_Sales_loss: 0.2383 - val_Sales_mse: 0.2383 - val_loss: 0.3550 - learning_rate: 1.0000e-03\n",
      "Epoch 4/20\n",
      "\n",
      "Epoch 4: val_Sales_mse improved from 0.23316 to 0.22541, saving model to bestmodel.keras\n",
      "3181/3181 - 49s - 15ms/step - Customers_loss: 0.1277 - Customers_rmspe: 13.5262 - Sales_loss: 0.3009 - Sales_mse: 0.3009 - loss: 0.4286 - val_Customers_loss: 0.0842 - val_Customers_rmspe: 13.6176 - val_Sales_loss: 0.2254 - val_Sales_mse: 0.2254 - val_loss: 0.3097 - learning_rate: 1.0000e-03\n",
      "Epoch 5/20\n",
      "\n",
      "Epoch 5: val_Sales_mse improved from 0.22541 to 0.22318, saving model to bestmodel.keras\n",
      "3181/3181 - 49s - 15ms/step - Customers_loss: 0.1248 - Customers_rmspe: 13.1765 - Sales_loss: 0.2980 - Sales_mse: 0.2980 - loss: 0.4228 - val_Customers_loss: 0.0796 - val_Customers_rmspe: 11.8559 - val_Sales_loss: 0.2232 - val_Sales_mse: 0.2232 - val_loss: 0.3028 - learning_rate: 1.0000e-03\n",
      "Epoch 6/20\n",
      "\n",
      "Epoch 6: val_Sales_mse did not improve from 0.22318\n",
      "3181/3181 - 50s - 16ms/step - Customers_loss: 0.1221 - Customers_rmspe: 13.1918 - Sales_loss: 0.2947 - Sales_mse: 0.2947 - loss: 0.4168 - val_Customers_loss: 0.1010 - val_Customers_rmspe: 15.0353 - val_Sales_loss: 0.2425 - val_Sales_mse: 0.2425 - val_loss: 0.3435 - learning_rate: 1.0000e-03\n",
      "Epoch 7/20\n",
      "\n",
      "Epoch 7: val_Sales_mse did not improve from 0.22318\n",
      "3181/3181 - 48s - 15ms/step - Customers_loss: 0.1206 - Customers_rmspe: 12.8587 - Sales_loss: 0.2926 - Sales_mse: 0.2926 - loss: 0.4132 - val_Customers_loss: 0.0863 - val_Customers_rmspe: 12.1041 - val_Sales_loss: 0.2303 - val_Sales_mse: 0.2303 - val_loss: 0.3166 - learning_rate: 1.0000e-03\n",
      "Epoch 8/20\n",
      "\n",
      "Epoch 8: val_Sales_mse did not improve from 0.22318\n",
      "\n",
      "Epoch 8: ReduceLROnPlateau reducing learning rate to 0.0005000000237487257.\n",
      "3181/3181 - 52s - 16ms/step - Customers_loss: 0.1193 - Customers_rmspe: 13.0472 - Sales_loss: 0.2908 - Sales_mse: 0.2908 - loss: 0.4101 - val_Customers_loss: 0.0852 - val_Customers_rmspe: 12.7364 - val_Sales_loss: 0.2328 - val_Sales_mse: 0.2328 - val_loss: 0.3180 - learning_rate: 1.0000e-03\n",
      "Epoch 9/20\n",
      "\n",
      "Epoch 9: val_Sales_mse did not improve from 0.22318\n",
      "3181/3181 - 52s - 16ms/step - Customers_loss: 0.1157 - Customers_rmspe: 12.9039 - Sales_loss: 0.2852 - Sales_mse: 0.2852 - loss: 0.4008 - val_Customers_loss: 0.1005 - val_Customers_rmspe: 15.2180 - val_Sales_loss: 0.2466 - val_Sales_mse: 0.2467 - val_loss: 0.3472 - learning_rate: 5.0000e-04\n",
      "Epoch 10/20\n",
      "\n",
      "Epoch 10: val_Sales_mse did not improve from 0.22318\n",
      "3181/3181 - 51s - 16ms/step - Customers_loss: 0.1144 - Customers_rmspe: 12.9237 - Sales_loss: 0.2840 - Sales_mse: 0.2840 - loss: 0.3984 - val_Customers_loss: 0.1017 - val_Customers_rmspe: 14.9426 - val_Sales_loss: 0.2406 - val_Sales_mse: 0.2407 - val_loss: 0.3423 - learning_rate: 5.0000e-04\n",
      "Epoch 11/20\n",
      "\n",
      "Epoch 11: val_Sales_mse did not improve from 0.22318\n",
      "\n",
      "Epoch 11: ReduceLROnPlateau reducing learning rate to 0.0002500000118743628.\n",
      "3181/3181 - 53s - 17ms/step - Customers_loss: 0.1143 - Customers_rmspe: 12.8357 - Sales_loss: 0.2831 - Sales_mse: 0.2831 - loss: 0.3974 - val_Customers_loss: 0.0931 - val_Customers_rmspe: 13.4263 - val_Sales_loss: 0.2421 - val_Sales_mse: 0.2421 - val_loss: 0.3352 - learning_rate: 5.0000e-04\n",
      "Epoch 12/20\n",
      "\n",
      "Epoch 12: val_Sales_mse did not improve from 0.22318\n",
      "3181/3181 - 54s - 17ms/step - Customers_loss: 0.1118 - Customers_rmspe: 12.7588 - Sales_loss: 0.2799 - Sales_mse: 0.2799 - loss: 0.3918 - val_Customers_loss: 0.0879 - val_Customers_rmspe: 13.6882 - val_Sales_loss: 0.2314 - val_Sales_mse: 0.2315 - val_loss: 0.3194 - learning_rate: 2.5000e-04\n",
      "Epoch 13/20\n",
      "\n",
      "Epoch 13: val_Sales_mse did not improve from 0.22318\n",
      "3181/3181 - 53s - 17ms/step - Customers_loss: 0.1115 - Customers_rmspe: 12.9226 - Sales_loss: 0.2792 - Sales_mse: 0.2792 - loss: 0.3907 - val_Customers_loss: 0.0940 - val_Customers_rmspe: 13.4318 - val_Sales_loss: 0.2387 - val_Sales_mse: 0.2387 - val_loss: 0.3328 - learning_rate: 2.5000e-04\n",
      "Epoch 14/20\n",
      "\n",
      "Epoch 14: val_Sales_mse did not improve from 0.22318\n",
      "\n",
      "Epoch 14: ReduceLROnPlateau reducing learning rate to 0.0001250000059371814.\n",
      "3181/3181 - 53s - 17ms/step - Customers_loss: 0.1110 - Customers_rmspe: 12.8895 - Sales_loss: 0.2783 - Sales_mse: 0.2783 - loss: 0.3893 - val_Customers_loss: 0.0994 - val_Customers_rmspe: 14.1781 - val_Sales_loss: 0.2500 - val_Sales_mse: 0.2501 - val_loss: 0.3494 - learning_rate: 2.5000e-04\n",
      "Epoch 15/20\n",
      "\n",
      "Epoch 15: val_Sales_mse did not improve from 0.22318\n",
      "3181/3181 - 52s - 16ms/step - Customers_loss: 0.1102 - Customers_rmspe: 12.7868 - Sales_loss: 0.2769 - Sales_mse: 0.2769 - loss: 0.3871 - val_Customers_loss: 0.0919 - val_Customers_rmspe: 13.3447 - val_Sales_loss: 0.2421 - val_Sales_mse: 0.2421 - val_loss: 0.3340 - learning_rate: 1.2500e-04\n",
      "Epoch 16/20\n",
      "\n",
      "Epoch 16: val_Sales_mse did not improve from 0.22318\n",
      "3181/3181 - 51s - 16ms/step - Customers_loss: 0.1095 - Customers_rmspe: 12.6333 - Sales_loss: 0.2760 - Sales_mse: 0.2760 - loss: 0.3856 - val_Customers_loss: 0.0931 - val_Customers_rmspe: 13.5915 - val_Sales_loss: 0.2456 - val_Sales_mse: 0.2456 - val_loss: 0.3388 - learning_rate: 1.2500e-04\n",
      "Epoch 17/20\n",
      "\n",
      "Epoch 17: val_Sales_mse did not improve from 0.22318\n",
      "\n",
      "Epoch 17: ReduceLROnPlateau reducing learning rate to 6.25000029685907e-05.\n",
      "3181/3181 - 51s - 16ms/step - Customers_loss: 0.1098 - Customers_rmspe: 12.7805 - Sales_loss: 0.2758 - Sales_mse: 0.2758 - loss: 0.3856 - val_Customers_loss: 0.0937 - val_Customers_rmspe: 13.7844 - val_Sales_loss: 0.2434 - val_Sales_mse: 0.2434 - val_loss: 0.3371 - learning_rate: 1.2500e-04\n",
      "Epoch 18/20\n",
      "\n",
      "Epoch 18: val_Sales_mse did not improve from 0.22318\n",
      "3181/3181 - 52s - 16ms/step - Customers_loss: 0.1090 - Customers_rmspe: 12.7987 - Sales_loss: 0.2752 - Sales_mse: 0.2752 - loss: 0.3842 - val_Customers_loss: 0.0915 - val_Customers_rmspe: 13.5417 - val_Sales_loss: 0.2427 - val_Sales_mse: 0.2428 - val_loss: 0.3343 - learning_rate: 6.2500e-05\n",
      "Epoch 19/20\n",
      "\n",
      "Epoch 19: val_Sales_mse did not improve from 0.22318\n",
      "3181/3181 - 1862s - 585ms/step - Customers_loss: 0.1093 - Customers_rmspe: 12.7769 - Sales_loss: 0.2751 - Sales_mse: 0.2750 - loss: 0.3842 - val_Customers_loss: 0.0958 - val_Customers_rmspe: 13.8989 - val_Sales_loss: 0.2503 - val_Sales_mse: 0.2503 - val_loss: 0.3461 - learning_rate: 6.2500e-05\n",
      "Epoch 20/20\n",
      "\n",
      "Epoch 20: val_Sales_mse did not improve from 0.22318\n",
      "\n",
      "Epoch 20: ReduceLROnPlateau reducing learning rate to 3.125000148429535e-05.\n",
      "3181/3181 - 58s - 18ms/step - Customers_loss: 0.1085 - Customers_rmspe: 12.7290 - Sales_loss: 0.2742 - Sales_mse: 0.2742 - loss: 0.3827 - val_Customers_loss: 0.0940 - val_Customers_rmspe: 13.8746 - val_Sales_loss: 0.2460 - val_Sales_mse: 0.2461 - val_loss: 0.3401 - learning_rate: 6.2500e-05\n"
     ]
    }
   ],
   "source": [
    "epochs = 20\n",
    "batch_size = 256\n",
    "history = model.fit(X_train, y_train, validation_data=(X_val, y_val),  epochs=epochs, batch_size=batch_size, callbacks=[checkpoint, lr_scheduler,es], verbose=2)"
   ]
  },
  {
   "cell_type": "code",
   "execution_count": 34,
   "metadata": {},
   "outputs": [
    {
     "data": {
      "image/png": "[encoded data removed]",
      "text/plain": [
       "<Figure size 640x480 with 1 Axes>"
      ]
     },
     "metadata": {},
     "output_type": "display_data"
    },
    {
     "data": {
      "text/plain": [
       "[<matplotlib.lines.Line2D at 0x24d0d1deae0>]"
      ]
     },
     "execution_count": 34,
     "metadata": {},
     "output_type": "execute_result"
    },
    {
     "data": {
      "image/png": "[encoded data removed]",
      "text/plain": [
       "<Figure size 640x480 with 1 Axes>"
      ]
     },
     "metadata": {},
     "output_type": "display_data"
    }
   ],
   "source": [
    "plt.plot(history.history['val_loss'])\n",
    "# plt.plot(history.history['val_Customers_mse'])\n",
    "# plt.plot(history.history['val_Sales_mse'])\n",
    "plt.show()\n",
    "plt.plot(history.history['loss'])\n",
    "# plt.plot(history.history['Customers_mse'])\n",
    "# plt.plot(history.history['Sales_mse'])"
   ]
  },
  {
   "cell_type": "markdown",
   "metadata": {},
   "source": [
    "# Métrica"
   ]
  },
  {
   "cell_type": "markdown",
   "metadata": {},
   "source": [
    "$$\n",
    "\\textrm{RMSE} = \\sqrt{\\frac{1}{n} \\sum_{i=1}^{n} \\left(\\frac{\\hat{y}_i - y_i}{y_i}\\right)^2}\n",
    "$$"
   ]
  },
  {
   "cell_type": "code",
   "execution_count": 35,
   "metadata": {},
   "outputs": [
    {
     "name": "stdout",
     "output_type": "stream",
     "text": [
      "\u001b[1m944/944\u001b[0m \u001b[32m━━━━━━━━━━━━━━━━━━━━\u001b[0m\u001b[37m\u001b[0m \u001b[1m2s\u001b[0m 3ms/step - Customers_loss: 0.0935 - Customers_rmspe: 8.4559 - Sales_loss: 0.2658 - Sales_mse: 0.2658 - loss: 0.3593\n"
     ]
    },
    {
     "data": {
      "text/plain": [
       "[0.34006673097610474,\n",
       " 0.24614349007606506,\n",
       " 0.09404167532920837,\n",
       " 7.36840295791626,\n",
       " 0.2460603564977646]"
      ]
     },
     "execution_count": 35,
     "metadata": {},
     "output_type": "execute_result"
    }
   ],
   "source": [
    "model.evaluate(X_val, y_val)"
   ]
  },
  {
   "cell_type": "code",
   "execution_count": 36,
   "metadata": {},
   "outputs": [
    {
     "name": "stdout",
     "output_type": "stream",
     "text": [
      "\u001b[1m944/944\u001b[0m \u001b[32m━━━━━━━━━━━━━━━━━━━━\u001b[0m\u001b[37m\u001b[0m \u001b[1m3s\u001b[0m 3ms/step - Customers_loss: 0.0830 - Customers_rmspe: 7.2082 - Sales_loss: 0.2704 - Sales_mse: 0.2704 - loss: 0.3533\n"
     ]
    },
    {
     "data": {
      "text/plain": [
       "[0.302794486284256,\n",
       " 0.22336333990097046,\n",
       " 0.07967226952314377,\n",
       " 6.239414215087891,\n",
       " 0.2231815755367279]"
      ]
     },
     "execution_count": 36,
     "metadata": {},
     "output_type": "execute_result"
    }
   ],
   "source": [
    "model.load_weights('bestmodel.keras')\n",
    "model.evaluate(X_val, y_val)"
   ]
  },
  {
   "cell_type": "code",
   "execution_count": 37,
   "metadata": {},
   "outputs": [],
   "source": [
    "# model.load_weights('bestmodel.hdf5')\n",
    "# model.evaluate(X_val, y_val)\n",
    "# 30188/30188 [==============================] - 5s 172us/step\n",
    "# [0.12197033089921382,\n",
    "#  0.07211007360268763,\n",
    "#  0.037183713050426136,\n",
    "#  0.07211007360268763,\n",
    "#  0.037183713050426136]\n",
    "\n",
    "# [0.12932546436786652,\n",
    "#  0.07751645147800446,\n",
    "#  0.039259567856788635,\n",
    "#  0.07751645147800446,\n",
    "#  0.039259567856788635]"
   ]
  },
  {
   "cell_type": "code",
   "execution_count": 38,
   "metadata": {},
   "outputs": [
    {
     "name": "stdout",
     "output_type": "stream",
     "text": [
      "\u001b[1m944/944\u001b[0m \u001b[32m━━━━━━━━━━━━━━━━━━━━\u001b[0m\u001b[37m\u001b[0m \u001b[1m3s\u001b[0m 3ms/step\n",
      "\u001b[1m1284/1284\u001b[0m \u001b[32m━━━━━━━━━━━━━━━━━━━━\u001b[0m\u001b[37m\u001b[0m \u001b[1m4s\u001b[0m 3ms/step\n"
     ]
    }
   ],
   "source": [
    "if log_output:\n",
    "    if add_customers:\n",
    "        y_pred = np.exp(model.predict(X_val, verbose=1)[0][:, 0]*max_log_y[0])\n",
    "        y_pred_test = np.exp(model.predict(X_test, verbose=1)[0][:, 0]*max_log_y[0])\n",
    "    else:\n",
    "        y_pred = np.exp(model.predict(X_val, verbose=1)*max_log_y)[:,0]\n",
    "        y_pred_test = np.exp(model.predict(X_test, verbose=1)*max_log_y)[:,0]\n",
    "else:\n",
    "    if add_customers:\n",
    "        y_pred = (model.predict(X_val, verbose=1)[0]*y_std[0] + y_mean[0])[:,0]\n",
    "        y_pred_test = (model.predict(X_test, verbose=1)[0]*y_std[0] + y_mean[0])[:,0]\n",
    "    else:\n",
    "#         y_pred = model.predict(X_val, verbose=1)[:,0]*y_std + y_mean\n",
    "#         y_pred_test = model.predict(X_test, verbose=1)[:,0]*y_std + y_mean\n",
    "        y_pred = model.predict(X_val, verbose=1)[:,0]*y_max\n",
    "        y_pred_test = model.predict(X_test, verbose=1)[:,0]*y_max\n",
    "y_pred_test[df_test['Open'] == 0] = 0"
   ]
  },
  {
   "cell_type": "code",
   "execution_count": 39,
   "metadata": {},
   "outputs": [
    {
     "data": {
      "text/plain": [
       "np.float64(0.22922146754883851)"
      ]
     },
     "execution_count": 39,
     "metadata": {},
     "output_type": "execute_result"
    }
   ],
   "source": [
    "np.sqrt((((df_val['Sales'].values - y_pred)/df_val['Sales'].values)**2).sum()/len(y_pred))"
   ]
  },
  {
   "cell_type": "code",
   "execution_count": 40,
   "metadata": {},
   "outputs": [
    {
     "data": {
      "text/plain": [
       "array([5300.41569705, 7672.00260839, 8619.01944123, 6480.81223177,\n",
       "       7290.39620485, 6011.37561415, 7963.32540344, 7707.40008917,\n",
       "       4961.96181582, 6230.35339393])"
      ]
     },
     "execution_count": 40,
     "metadata": {},
     "output_type": "execute_result"
    }
   ],
   "source": [
    "y_pred_test[:10]"
   ]
  },
  {
   "cell_type": "markdown",
   "metadata": {},
   "source": [
    "# Baseline"
   ]
  },
  {
   "cell_type": "code",
   "execution_count": 41,
   "metadata": {},
   "outputs": [],
   "source": [
    "import pandas as pd\n",
    "sample_csv = pd.read_csv('rossmann/rossmann/sample_submission.csv')\n",
    "\n"
   ]
  },
  {
   "cell_type": "code",
   "execution_count": 42,
   "metadata": {},
   "outputs": [],
   "source": [
    "stores_mean = {}\n",
    "for store, g_df in df.groupby('Store'):\n",
    "    stores_mean[store] = g_df[g_df['Sales'] > 0]['Sales'].mean()"
   ]
  },
  {
   "cell_type": "code",
   "execution_count": 43,
   "metadata": {},
   "outputs": [],
   "source": [
    "df_test['Sales'] = df_test['Store'].apply(stores_mean.get)\n",
    "df_test.loc[df_test['Open'] == 0, 'Sales'] = 0"
   ]
  },
  {
   "cell_type": "code",
   "execution_count": 44,
   "metadata": {},
   "outputs": [
    {
     "data": {
      "text/html": [
       "<div>\n",
       "<style scoped>\n",
       "    .dataframe tbody tr th:only-of-type {\n",
       "        vertical-align: middle;\n",
       "    }\n",
       "\n",
       "    .dataframe tbody tr th {\n",
       "        vertical-align: top;\n",
       "    }\n",
       "\n",
       "    .dataframe thead th {\n",
       "        text-align: right;\n",
       "    }\n",
       "</style>\n",
       "<table border=\"1\" class=\"dataframe\">\n",
       "  <thead>\n",
       "    <tr style=\"text-align: right;\">\n",
       "      <th></th>\n",
       "      <th>Store</th>\n",
       "      <th>Sales</th>\n",
       "    </tr>\n",
       "  </thead>\n",
       "  <tbody>\n",
       "    <tr>\n",
       "      <th>0</th>\n",
       "      <td>0</td>\n",
       "      <td>4759.096031</td>\n",
       "    </tr>\n",
       "    <tr>\n",
       "      <th>1</th>\n",
       "      <td>2</td>\n",
       "      <td>6942.568678</td>\n",
       "    </tr>\n",
       "    <tr>\n",
       "      <th>2</th>\n",
       "      <td>6</td>\n",
       "      <td>8817.050891</td>\n",
       "    </tr>\n",
       "    <tr>\n",
       "      <th>3</th>\n",
       "      <td>7</td>\n",
       "      <td>5539.358418</td>\n",
       "    </tr>\n",
       "    <tr>\n",
       "      <th>4</th>\n",
       "      <td>8</td>\n",
       "      <td>6562.337612</td>\n",
       "    </tr>\n",
       "    <tr>\n",
       "      <th>5</th>\n",
       "      <td>9</td>\n",
       "      <td>5568.420918</td>\n",
       "    </tr>\n",
       "    <tr>\n",
       "      <th>6</th>\n",
       "      <td>10</td>\n",
       "      <td>8030.977041</td>\n",
       "    </tr>\n",
       "    <tr>\n",
       "      <th>7</th>\n",
       "      <td>11</td>\n",
       "      <td>7589.598214</td>\n",
       "    </tr>\n",
       "    <tr>\n",
       "      <th>8</th>\n",
       "      <td>12</td>\n",
       "      <td>5034.747182</td>\n",
       "    </tr>\n",
       "    <tr>\n",
       "      <th>9</th>\n",
       "      <td>13</td>\n",
       "      <td>5508.567394</td>\n",
       "    </tr>\n",
       "  </tbody>\n",
       "</table>\n",
       "</div>"
      ],
      "text/plain": [
       "   Store        Sales\n",
       "0      0  4759.096031\n",
       "1      2  6942.568678\n",
       "2      6  8817.050891\n",
       "3      7  5539.358418\n",
       "4      8  6562.337612\n",
       "5      9  5568.420918\n",
       "6     10  8030.977041\n",
       "7     11  7589.598214\n",
       "8     12  5034.747182\n",
       "9     13  5508.567394"
      ]
     },
     "execution_count": 44,
     "metadata": {},
     "output_type": "execute_result"
    }
   ],
   "source": [
    "df_test[['Store', 'Sales']].head(10)"
   ]
  },
  {
   "cell_type": "code",
   "execution_count": 45,
   "metadata": {},
   "outputs": [
    {
     "data": {
      "text/html": [
       "<div>\n",
       "<style scoped>\n",
       "    .dataframe tbody tr th:only-of-type {\n",
       "        vertical-align: middle;\n",
       "    }\n",
       "\n",
       "    .dataframe tbody tr th {\n",
       "        vertical-align: top;\n",
       "    }\n",
       "\n",
       "    .dataframe thead th {\n",
       "        text-align: right;\n",
       "    }\n",
       "</style>\n",
       "<table border=\"1\" class=\"dataframe\">\n",
       "  <thead>\n",
       "    <tr style=\"text-align: right;\">\n",
       "      <th></th>\n",
       "      <th>Store</th>\n",
       "      <th>Sales</th>\n",
       "    </tr>\n",
       "  </thead>\n",
       "  <tbody>\n",
       "    <tr>\n",
       "      <th>543</th>\n",
       "      <td>702</td>\n",
       "      <td>0.0</td>\n",
       "    </tr>\n",
       "    <tr>\n",
       "      <th>676</th>\n",
       "      <td>878</td>\n",
       "      <td>0.0</td>\n",
       "    </tr>\n",
       "    <tr>\n",
       "      <th>840</th>\n",
       "      <td>1096</td>\n",
       "      <td>0.0</td>\n",
       "    </tr>\n",
       "    <tr>\n",
       "      <th>1399</th>\n",
       "      <td>702</td>\n",
       "      <td>0.0</td>\n",
       "    </tr>\n",
       "    <tr>\n",
       "      <th>1532</th>\n",
       "      <td>878</td>\n",
       "      <td>0.0</td>\n",
       "    </tr>\n",
       "  </tbody>\n",
       "</table>\n",
       "</div>"
      ],
      "text/plain": [
       "      Store  Sales\n",
       "543     702    0.0\n",
       "676     878    0.0\n",
       "840    1096    0.0\n",
       "1399    702    0.0\n",
       "1532    878    0.0"
      ]
     },
     "execution_count": 45,
     "metadata": {},
     "output_type": "execute_result"
    }
   ],
   "source": [
    "df_test[df_test['Open'] == 0][['Store', 'Sales']].head()"
   ]
  },
  {
   "cell_type": "code",
   "execution_count": 46,
   "metadata": {},
   "outputs": [],
   "source": [
    "sample_csv['Sales'] = df_test['Sales']"
   ]
  },
  {
   "cell_type": "code",
   "execution_count": 47,
   "metadata": {},
   "outputs": [],
   "source": [
    "sample_csv.to_csv(f'submision_baseline.csv', index=False)"
   ]
  },
  {
   "cell_type": "code",
   "execution_count": 48,
   "metadata": {},
   "outputs": [
    {
     "data": {
      "text/html": [
       "<div>\n",
       "<style scoped>\n",
       "    .dataframe tbody tr th:only-of-type {\n",
       "        vertical-align: middle;\n",
       "    }\n",
       "\n",
       "    .dataframe tbody tr th {\n",
       "        vertical-align: top;\n",
       "    }\n",
       "\n",
       "    .dataframe thead th {\n",
       "        text-align: right;\n",
       "    }\n",
       "</style>\n",
       "<table border=\"1\" class=\"dataframe\">\n",
       "  <thead>\n",
       "    <tr style=\"text-align: right;\">\n",
       "      <th></th>\n",
       "      <th>Id</th>\n",
       "      <th>Sales</th>\n",
       "    </tr>\n",
       "  </thead>\n",
       "  <tbody>\n",
       "    <tr>\n",
       "      <th>0</th>\n",
       "      <td>1</td>\n",
       "      <td>4759.096031</td>\n",
       "    </tr>\n",
       "    <tr>\n",
       "      <th>1</th>\n",
       "      <td>2</td>\n",
       "      <td>6942.568678</td>\n",
       "    </tr>\n",
       "    <tr>\n",
       "      <th>2</th>\n",
       "      <td>3</td>\n",
       "      <td>8817.050891</td>\n",
       "    </tr>\n",
       "    <tr>\n",
       "      <th>3</th>\n",
       "      <td>4</td>\n",
       "      <td>5539.358418</td>\n",
       "    </tr>\n",
       "    <tr>\n",
       "      <th>4</th>\n",
       "      <td>5</td>\n",
       "      <td>6562.337612</td>\n",
       "    </tr>\n",
       "  </tbody>\n",
       "</table>\n",
       "</div>"
      ],
      "text/plain": [
       "   Id        Sales\n",
       "0   1  4759.096031\n",
       "1   2  6942.568678\n",
       "2   3  8817.050891\n",
       "3   4  5539.358418\n",
       "4   5  6562.337612"
      ]
     },
     "execution_count": 48,
     "metadata": {},
     "output_type": "execute_result"
    }
   ],
   "source": [
    "sample_csv.head()"
   ]
  },
  {
   "cell_type": "markdown",
   "metadata": {},
   "source": [
    "# Sumbit a la competición"
   ]
  },
  {
   "cell_type": "code",
   "execution_count": 51,
   "metadata": {},
   "outputs": [],
   "source": [
    "\n",
    "sample_csv = pd.read_csv('rossmann/rossmann/sample_submission.csv')\n",
    "sample_csv['Sales'] = y_pred_test\n",
    "sample_csv.head()\n",
    "\n",
    "sample_csv.to_csv(f'submision_{add_customers}-{log_output}-{output_activation}--{epochs}-{batch_size}-{lr}.csv', index=False)\n"
   ]
  },
  {
   "cell_type": "markdown",
   "metadata": {},
   "source": [
    "# Analisis de embedings"
   ]
  },
  {
   "cell_type": "code",
   "execution_count": 52,
   "metadata": {},
   "outputs": [],
   "source": [
    "def plot_embed(layer_name, cat_names):\n",
    "    Y = model.get_layer(layer_name).get_weights()[0]\n",
    "    print(Y.shape)\n",
    "    plt.figure(figsize=(8,8))\n",
    "    plt.scatter(-Y[:, 0], -Y[:, 1])\n",
    "    for i, txt in enumerate(cat_names):\n",
    "        plt.annotate(txt, (-Y[i, 0],-Y[i, 1]), xytext = (-5, 8), textcoords = 'offset points')"
   ]
  },
  {
   "cell_type": "code",
   "execution_count": 53,
   "metadata": {},
   "outputs": [
    {
     "name": "stdout",
     "output_type": "stream",
     "text": [
      "(7, 2)\n"
     ]
    },
    {
     "data": {
      "image/png": "[encoded data removed]",
      "text/plain": [
       "<Figure size 800x800 with 1 Axes>"
      ]
     },
     "metadata": {},
     "output_type": "display_data"
    }
   ],
   "source": [
    "model.load_weights('bestmodel.keras')\n",
    "plot_embed('DayOfWeek_Embed', ['Mon', 'Tue', 'Wed', 'Thu', 'Fri', 'Sat','Sun'])"
   ]
  },
  {
   "cell_type": "code",
   "execution_count": null,
   "metadata": {},
   "outputs": [],
   "source": [
    "#plot_embed('Month_Embed', list(range(12)))"
   ]
  },
  {
   "cell_type": "code",
   "execution_count": null,
   "metadata": {},
   "outputs": [],
   "source": [
    "#from sklearn.manifold import TSNE\n",
    "#from sklearn.decomposition import PCA"
   ]
  },
  {
   "cell_type": "code",
   "execution_count": null,
   "metadata": {},
   "outputs": [],
   "source": [
    "#day_of_week_embedding.shape\n",
    "\n"
   ]
  },
  {
   "cell_type": "code",
   "execution_count": null,
   "metadata": {},
   "outputs": [],
   "source": [
    "#tsne = TSNE(n_components=2, random_state=1, learning_rate=10, n_iter=10000)\n",
    "#Y = tsne.fit_transform(day_of_week_embedding)\n",
    "#names = ['Mon', 'Tue', 'Wed', 'Thu', 'Fri', 'Sat','Sun']\n",
    "#plt.figure(figsize=(8,8))\n",
    "#plt.scatter(-Y[:, 0], -Y[:, 1])\n",
    "#for i, txt in enumerate(names):\n",
    "#    plt.annotate(txt, (-Y[i, 0],-Y[i, 1]), xytext = (-5, 8), textcoords = 'offset points')"
   ]
  },
  {
   "cell_type": "code",
   "execution_count": 54,
   "metadata": {},
   "outputs": [
    {
     "data": {
      "text/plain": [
       "['Store', 'DayOfWeek']"
      ]
     },
     "execution_count": 54,
     "metadata": {},
     "output_type": "execute_result"
    }
   ],
   "source": [
    "cat_vars"
   ]
  },
  {
   "cell_type": "markdown",
   "metadata": {},
   "source": [
    "## Store embeddings"
   ]
  },
  {
   "cell_type": "code",
   "execution_count": 55,
   "metadata": {},
   "outputs": [],
   "source": [
    "submodel = Model(cat_var_inputs + cont_vars_inputs, merged)"
   ]
  },
  {
   "cell_type": "code",
   "execution_count": 56,
   "metadata": {},
   "outputs": [
    {
     "data": {
      "text/html": [
       "<pre style=\"white-space:pre;overflow-x:auto;line-height:normal;font-family:Menlo,'DejaVu Sans Mono',consolas,'Courier New',monospace\"><span style=\"font-weight: bold\">Model: \"functional_1\"</span>\n",
       "</pre>\n"
      ],
      "text/plain": [
       "\u001b[1mModel: \"functional_1\"\u001b[0m\n"
      ]
     },
     "metadata": {},
     "output_type": "display_data"
    },
    {
     "data": {
      "text/html": [
       "<pre style=\"white-space:pre;overflow-x:auto;line-height:normal;font-family:Menlo,'DejaVu Sans Mono',consolas,'Courier New',monospace\">┏━━━━━━━━━━━━━━━━━━━━━┳━━━━━━━━━━━━━━━━━━━┳━━━━━━━━━━━━┳━━━━━━━━━━━━━━━━━━━┓\n",
       "┃<span style=\"font-weight: bold\"> Layer (type)        </span>┃<span style=\"font-weight: bold\"> Output Shape      </span>┃<span style=\"font-weight: bold\">    Param # </span>┃<span style=\"font-weight: bold\"> Connected to      </span>┃\n",
       "┡━━━━━━━━━━━━━━━━━━━━━╇━━━━━━━━━━━━━━━━━━━╇━━━━━━━━━━━━╇━━━━━━━━━━━━━━━━━━━┩\n",
       "│ Store_input         │ (<span style=\"color: #00d7ff; text-decoration-color: #00d7ff\">None</span>, <span style=\"color: #00af00; text-decoration-color: #00af00\">1</span>)         │          <span style=\"color: #00af00; text-decoration-color: #00af00\">0</span> │ -                 │\n",
       "│ (<span style=\"color: #0087ff; text-decoration-color: #0087ff\">InputLayer</span>)        │                   │            │                   │\n",
       "├─────────────────────┼───────────────────┼────────────┼───────────────────┤\n",
       "│ DayOfWeek_input     │ (<span style=\"color: #00d7ff; text-decoration-color: #00d7ff\">None</span>, <span style=\"color: #00af00; text-decoration-color: #00af00\">1</span>)         │          <span style=\"color: #00af00; text-decoration-color: #00af00\">0</span> │ -                 │\n",
       "│ (<span style=\"color: #0087ff; text-decoration-color: #0087ff\">InputLayer</span>)        │                   │            │                   │\n",
       "├─────────────────────┼───────────────────┼────────────┼───────────────────┤\n",
       "│ Store_Embed         │ (<span style=\"color: #00d7ff; text-decoration-color: #00d7ff\">None</span>, <span style=\"color: #00af00; text-decoration-color: #00af00\">1</span>, <span style=\"color: #00af00; text-decoration-color: #00af00\">50</span>)     │     <span style=\"color: #00af00; text-decoration-color: #00af00\">55,750</span> │ Store_input[<span style=\"color: #00af00; text-decoration-color: #00af00\">0</span>][<span style=\"color: #00af00; text-decoration-color: #00af00\">0</span>] │\n",
       "│ (<span style=\"color: #0087ff; text-decoration-color: #0087ff\">Embedding</span>)         │                   │            │                   │\n",
       "├─────────────────────┼───────────────────┼────────────┼───────────────────┤\n",
       "│ DayOfWeek_Embed     │ (<span style=\"color: #00d7ff; text-decoration-color: #00d7ff\">None</span>, <span style=\"color: #00af00; text-decoration-color: #00af00\">1</span>, <span style=\"color: #00af00; text-decoration-color: #00af00\">2</span>)      │         <span style=\"color: #00af00; text-decoration-color: #00af00\">14</span> │ DayOfWeek_input[<span style=\"color: #00af00; text-decoration-color: #00af00\">…</span> │\n",
       "│ (<span style=\"color: #0087ff; text-decoration-color: #0087ff\">Embedding</span>)         │                   │            │                   │\n",
       "├─────────────────────┼───────────────────┼────────────┼───────────────────┤\n",
       "│ Store_flat          │ (<span style=\"color: #00d7ff; text-decoration-color: #00d7ff\">None</span>, <span style=\"color: #00af00; text-decoration-color: #00af00\">50</span>)        │          <span style=\"color: #00af00; text-decoration-color: #00af00\">0</span> │ Store_Embed[<span style=\"color: #00af00; text-decoration-color: #00af00\">0</span>][<span style=\"color: #00af00; text-decoration-color: #00af00\">0</span>] │\n",
       "│ (<span style=\"color: #0087ff; text-decoration-color: #0087ff\">Flatten</span>)           │                   │            │                   │\n",
       "├─────────────────────┼───────────────────┼────────────┼───────────────────┤\n",
       "│ DayOfWeek_flat      │ (<span style=\"color: #00d7ff; text-decoration-color: #00d7ff\">None</span>, <span style=\"color: #00af00; text-decoration-color: #00af00\">2</span>)         │          <span style=\"color: #00af00; text-decoration-color: #00af00\">0</span> │ DayOfWeek_Embed[<span style=\"color: #00af00; text-decoration-color: #00af00\">…</span> │\n",
       "│ (<span style=\"color: #0087ff; text-decoration-color: #0087ff\">Flatten</span>)           │                   │            │                   │\n",
       "├─────────────────────┼───────────────────┼────────────┼───────────────────┤\n",
       "│ BeforeStateHoliday… │ (<span style=\"color: #00d7ff; text-decoration-color: #00d7ff\">None</span>, <span style=\"color: #00af00; text-decoration-color: #00af00\">1</span>)         │          <span style=\"color: #00af00; text-decoration-color: #00af00\">0</span> │ -                 │\n",
       "│ (<span style=\"color: #0087ff; text-decoration-color: #0087ff\">InputLayer</span>)        │                   │            │                   │\n",
       "├─────────────────────┼───────────────────┼────────────┼───────────────────┤\n",
       "│ Max_TemperatureC_i… │ (<span style=\"color: #00d7ff; text-decoration-color: #00d7ff\">None</span>, <span style=\"color: #00af00; text-decoration-color: #00af00\">1</span>)         │          <span style=\"color: #00af00; text-decoration-color: #00af00\">0</span> │ -                 │\n",
       "│ (<span style=\"color: #0087ff; text-decoration-color: #0087ff\">InputLayer</span>)        │                   │            │                   │\n",
       "├─────────────────────┼───────────────────┼────────────┼───────────────────┤\n",
       "│ All_Concatenate     │ (<span style=\"color: #00d7ff; text-decoration-color: #00d7ff\">None</span>, <span style=\"color: #00af00; text-decoration-color: #00af00\">54</span>)        │          <span style=\"color: #00af00; text-decoration-color: #00af00\">0</span> │ Store_flat[<span style=\"color: #00af00; text-decoration-color: #00af00\">0</span>][<span style=\"color: #00af00; text-decoration-color: #00af00\">0</span>], │\n",
       "│ (<span style=\"color: #0087ff; text-decoration-color: #0087ff\">Concatenate</span>)       │                   │            │ DayOfWeek_flat[<span style=\"color: #00af00; text-decoration-color: #00af00\">0</span>… │\n",
       "│                     │                   │            │ BeforeStateHolid… │\n",
       "│                     │                   │            │ Max_TemperatureC… │\n",
       "└─────────────────────┴───────────────────┴────────────┴───────────────────┘\n",
       "</pre>\n"
      ],
      "text/plain": [
       "┏━━━━━━━━━━━━━━━━━━━━━┳━━━━━━━━━━━━━━━━━━━┳━━━━━━━━━━━━┳━━━━━━━━━━━━━━━━━━━┓\n",
       "┃\u001b[1m \u001b[0m\u001b[1mLayer (type)       \u001b[0m\u001b[1m \u001b[0m┃\u001b[1m \u001b[0m\u001b[1mOutput Shape     \u001b[0m\u001b[1m \u001b[0m┃\u001b[1m \u001b[0m\u001b[1m   Param #\u001b[0m\u001b[1m \u001b[0m┃\u001b[1m \u001b[0m\u001b[1mConnected to     \u001b[0m\u001b[1m \u001b[0m┃\n",
       "┡━━━━━━━━━━━━━━━━━━━━━╇━━━━━━━━━━━━━━━━━━━╇━━━━━━━━━━━━╇━━━━━━━━━━━━━━━━━━━┩\n",
       "│ Store_input         │ (\u001b[38;5;45mNone\u001b[0m, \u001b[38;5;34m1\u001b[0m)         │          \u001b[38;5;34m0\u001b[0m │ -                 │\n",
       "│ (\u001b[38;5;33mInputLayer\u001b[0m)        │                   │            │                   │\n",
       "├─────────────────────┼───────────────────┼────────────┼───────────────────┤\n",
       "│ DayOfWeek_input     │ (\u001b[38;5;45mNone\u001b[0m, \u001b[38;5;34m1\u001b[0m)         │          \u001b[38;5;34m0\u001b[0m │ -                 │\n",
       "│ (\u001b[38;5;33mInputLayer\u001b[0m)        │                   │            │                   │\n",
       "├─────────────────────┼───────────────────┼────────────┼───────────────────┤\n",
       "│ Store_Embed         │ (\u001b[38;5;45mNone\u001b[0m, \u001b[38;5;34m1\u001b[0m, \u001b[38;5;34m50\u001b[0m)     │     \u001b[38;5;34m55,750\u001b[0m │ Store_input[\u001b[38;5;34m0\u001b[0m][\u001b[38;5;34m0\u001b[0m] │\n",
       "│ (\u001b[38;5;33mEmbedding\u001b[0m)         │                   │            │                   │\n",
       "├─────────────────────┼───────────────────┼────────────┼───────────────────┤\n",
       "│ DayOfWeek_Embed     │ (\u001b[38;5;45mNone\u001b[0m, \u001b[38;5;34m1\u001b[0m, \u001b[38;5;34m2\u001b[0m)      │         \u001b[38;5;34m14\u001b[0m │ DayOfWeek_input[\u001b[38;5;34m…\u001b[0m │\n",
       "│ (\u001b[38;5;33mEmbedding\u001b[0m)         │                   │            │                   │\n",
       "├─────────────────────┼───────────────────┼────────────┼───────────────────┤\n",
       "│ Store_flat          │ (\u001b[38;5;45mNone\u001b[0m, \u001b[38;5;34m50\u001b[0m)        │          \u001b[38;5;34m0\u001b[0m │ Store_Embed[\u001b[38;5;34m0\u001b[0m][\u001b[38;5;34m0\u001b[0m] │\n",
       "│ (\u001b[38;5;33mFlatten\u001b[0m)           │                   │            │                   │\n",
       "├─────────────────────┼───────────────────┼────────────┼───────────────────┤\n",
       "│ DayOfWeek_flat      │ (\u001b[38;5;45mNone\u001b[0m, \u001b[38;5;34m2\u001b[0m)         │          \u001b[38;5;34m0\u001b[0m │ DayOfWeek_Embed[\u001b[38;5;34m…\u001b[0m │\n",
       "│ (\u001b[38;5;33mFlatten\u001b[0m)           │                   │            │                   │\n",
       "├─────────────────────┼───────────────────┼────────────┼───────────────────┤\n",
       "│ BeforeStateHoliday… │ (\u001b[38;5;45mNone\u001b[0m, \u001b[38;5;34m1\u001b[0m)         │          \u001b[38;5;34m0\u001b[0m │ -                 │\n",
       "│ (\u001b[38;5;33mInputLayer\u001b[0m)        │                   │            │                   │\n",
       "├─────────────────────┼───────────────────┼────────────┼───────────────────┤\n",
       "│ Max_TemperatureC_i… │ (\u001b[38;5;45mNone\u001b[0m, \u001b[38;5;34m1\u001b[0m)         │          \u001b[38;5;34m0\u001b[0m │ -                 │\n",
       "│ (\u001b[38;5;33mInputLayer\u001b[0m)        │                   │            │                   │\n",
       "├─────────────────────┼───────────────────┼────────────┼───────────────────┤\n",
       "│ All_Concatenate     │ (\u001b[38;5;45mNone\u001b[0m, \u001b[38;5;34m54\u001b[0m)        │          \u001b[38;5;34m0\u001b[0m │ Store_flat[\u001b[38;5;34m0\u001b[0m][\u001b[38;5;34m0\u001b[0m], │\n",
       "│ (\u001b[38;5;33mConcatenate\u001b[0m)       │                   │            │ DayOfWeek_flat[\u001b[38;5;34m0\u001b[0m… │\n",
       "│                     │                   │            │ BeforeStateHolid… │\n",
       "│                     │                   │            │ Max_TemperatureC… │\n",
       "└─────────────────────┴───────────────────┴────────────┴───────────────────┘\n"
      ]
     },
     "metadata": {},
     "output_type": "display_data"
    },
    {
     "data": {
      "text/html": [
       "<pre style=\"white-space:pre;overflow-x:auto;line-height:normal;font-family:Menlo,'DejaVu Sans Mono',consolas,'Courier New',monospace\"><span style=\"font-weight: bold\"> Total params: </span><span style=\"color: #00af00; text-decoration-color: #00af00\">55,764</span> (217.83 KB)\n",
       "</pre>\n"
      ],
      "text/plain": [
       "\u001b[1m Total params: \u001b[0m\u001b[38;5;34m55,764\u001b[0m (217.83 KB)\n"
      ]
     },
     "metadata": {},
     "output_type": "display_data"
    },
    {
     "data": {
      "text/html": [
       "<pre style=\"white-space:pre;overflow-x:auto;line-height:normal;font-family:Menlo,'DejaVu Sans Mono',consolas,'Courier New',monospace\"><span style=\"font-weight: bold\"> Trainable params: </span><span style=\"color: #00af00; text-decoration-color: #00af00\">55,764</span> (217.83 KB)\n",
       "</pre>\n"
      ],
      "text/plain": [
       "\u001b[1m Trainable params: \u001b[0m\u001b[38;5;34m55,764\u001b[0m (217.83 KB)\n"
      ]
     },
     "metadata": {},
     "output_type": "display_data"
    },
    {
     "data": {
      "text/html": [
       "<pre style=\"white-space:pre;overflow-x:auto;line-height:normal;font-family:Menlo,'DejaVu Sans Mono',consolas,'Courier New',monospace\"><span style=\"font-weight: bold\"> Non-trainable params: </span><span style=\"color: #00af00; text-decoration-color: #00af00\">0</span> (0.00 B)\n",
       "</pre>\n"
      ],
      "text/plain": [
       "\u001b[1m Non-trainable params: \u001b[0m\u001b[38;5;34m0\u001b[0m (0.00 B)\n"
      ]
     },
     "metadata": {},
     "output_type": "display_data"
    }
   ],
   "source": [
    "submodel.summary()"
   ]
  },
  {
   "cell_type": "code",
   "execution_count": 57,
   "metadata": {},
   "outputs": [
    {
     "name": "stderr",
     "output_type": "stream",
     "text": [
      "WARNING:absl:You are saving your model as an HDF5 file via `model.save()` or `keras.saving.save_model(model)`. This file format is considered legacy. We recommend using instead the native Keras format, e.g. `model.save('my_model.keras')` or `keras.saving.save_model(model, 'my_model.keras')`. \n"
     ]
    }
   ],
   "source": [
    "submodel.save('embeddings_model.hdf5')"
   ]
  },
  {
   "cell_type": "code",
   "execution_count": null,
   "metadata": {},
   "outputs": [],
   "source": []
  }
 ],
 "metadata": {
  "kernelspec": {
   "display_name": "my_env",
   "language": "python",
   "name": "python3"
  },
  "language_info": {
   "codemirror_mode": {
    "name": "ipython",
    "version": 3
   },
   "file_extension": ".py",
   "mimetype": "text/x-python",
   "name": "python",
   "nbconvert_exporter": "python",
   "pygments_lexer": "ipython3",
   "version": "3.12.4"
  }
 },
 "nbformat": 4,
 "nbformat_minor": 4
}
